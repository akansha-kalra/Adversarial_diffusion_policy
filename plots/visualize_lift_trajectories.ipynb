{
 "cells": [
  {
   "cell_type": "code",
   "execution_count": 3,
   "metadata": {},
   "outputs": [],
   "source": [
    "import os\n",
    "import hydra\n",
    "import torch\n",
    "from omegaconf import OmegaConf\n",
    "import pathlib\n",
    "from torch.utils.data import DataLoader\n",
    "import copy\n",
    "import random\n",
    "import wandb\n",
    "import tqdm\n",
    "import numpy as np\n",
    "import shutil\n",
    "from diffusion_policy.workspace.base_workspace import BaseWorkspace\n",
    "from diffusion_policy.policy.robomimic_image_policy import RobomimicImagePolicy\n",
    "from diffusion_policy.dataset.base_dataset import BaseImageDataset\n",
    "from diffusion_policy.env_runner.base_image_runner import BaseImageRunner\n",
    "from diffusion_policy.common.checkpoint_util import TopKCheckpointManager\n",
    "from diffusion_policy.common.json_logger import JsonLogger\n",
    "from diffusion_policy.common.pytorch_util import dict_apply, optimizer_to\n",
    "import dill"
   ]
  },
  {
   "cell_type": "code",
   "execution_count": 11,
   "metadata": {},
   "outputs": [
    {
     "name": "stdout",
     "output_type": "stream",
     "text": [
      "/teamspace/studios/this_studio/bc_attacks/diffusion_policy/data/robomimic/datasets/lift/ph/image_abs.hdf5\n",
      "Acquiring lock on cache.\n",
      "Cache does not exist. Creating!\n"
     ]
    },
    {
     "name": "stderr",
     "output_type": "stream",
     "text": [
      "Loading lowdim data: 100%|██████████| 4/4 [00:00<00:00,  5.03it/s]\n",
      "Loading image data: 100%|██████████| 19332/19332 [01:06<00:00, 289.94it/s]\n"
     ]
    },
    {
     "name": "stdout",
     "output_type": "stream",
     "text": [
      "Saving cache to disk.\n"
     ]
    }
   ],
   "source": [
    "checkpoint = '/teamspace/studios/this_studio/bc_attacks/diffusion_policy/data/experiments/image/lift_ph/diffusion_policy_cnn/train_0/checkpoints/epoch=0300-test_mean_score=1.000.ckpt'\n",
    "payload = torch.load(open(checkpoint, 'rb'), pickle_module=dill)\n",
    "cfg_loaded = payload['cfg']\n",
    "cfg_loaded.task.dataset.dataset_path = os.path.join('/teamspace/studios/this_studio/bc_attacks/diffusion_policy/', cfg_loaded.task.dataset.dataset_path)\n",
    "dataset = hydra.utils.instantiate(cfg_loaded.task.dataset)"
   ]
  },
  {
   "cell_type": "code",
   "execution_count": 27,
   "metadata": {},
   "outputs": [
    {
     "name": "stdout",
     "output_type": "stream",
     "text": [
      "(8118, 16, 3)\n"
     ]
    }
   ],
   "source": [
    "# get the first three coordaintes of all the actions\n",
    "coordinates = []\n",
    "for i in range(len(dataset)):\n",
    "    action = dataset[i]['action']\n",
    "    coordinates.append(action[:, :3].numpy())\n",
    "coordinates = np.array(coordinates)\n",
    "print(coordinates.shape)"
   ]
  },
  {
   "cell_type": "code",
   "execution_count": 36,
   "metadata": {},
   "outputs": [],
   "source": [
    "import numpy as np\n",
    "import plotly.graph_objects as go\n",
    "\n",
    "# Assuming coordinates is a list of numpy arrays\n",
    "# coordinates = [np.random.rand(10, 3) for _ in range(5)]  # Example data\n",
    "\n",
    "# Create a Plotly figure\n",
    "fig = go.Figure()\n",
    "\n",
    "# Add each trajectory as a scatter3d trace\n",
    "plot_range = len(coordinates)\n",
    "for i in range(plot_range):\n",
    "    fig.add_trace(go.Scatter3d(\n",
    "        x=coordinates[i][:, 0],\n",
    "        y=coordinates[i][:, 1],\n",
    "        z=coordinates[i][:, 2],\n",
    "        mode='lines',\n",
    "        name=f'Trajectory {i+1}'\n",
    "    ))\n",
    "\n",
    "# Update the layout for better visualization\n",
    "fig.update_layout(\n",
    "    scene=dict(\n",
    "        xaxis_title='X Axis',\n",
    "        yaxis_title='Y Axis',\n",
    "        zaxis_title='Z Axis'\n",
    "    ),\n",
    "    title='3D Trajectories'\n",
    ")\n",
    "fig.write_html('/teamspace/studios/this_studio/bc_attacks/diffusion_policy/plots/images/3d_trajectories.html')\n"
   ]
  },
  {
   "cell_type": "code",
   "execution_count": null,
   "metadata": {},
   "outputs": [],
   "source": []
  }
 ],
 "metadata": {
  "kernelspec": {
   "display_name": "cloudspace",
   "language": "python",
   "name": "python3"
  },
  "language_info": {
   "codemirror_mode": {
    "name": "ipython",
    "version": 3
   },
   "file_extension": ".py",
   "mimetype": "text/x-python",
   "name": "python",
   "nbconvert_exporter": "python",
   "pygments_lexer": "ipython3",
   "version": "3.10.10"
  },
  "orig_nbformat": 4
 },
 "nbformat": 4,
 "nbformat_minor": 2
}
